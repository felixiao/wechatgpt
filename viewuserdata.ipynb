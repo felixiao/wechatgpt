{
 "cells": [
  {
   "cell_type": "code",
   "execution_count": 8,
   "metadata": {},
   "outputs": [],
   "source": [
    "import pickle\n",
    "import time\n",
    "import datetime"
   ]
  },
  {
   "cell_type": "code",
   "execution_count": 32,
   "metadata": {},
   "outputs": [],
   "source": [
    "class UserAccount:\n",
    "    def __init__(self,id,nick_name,expire_datetime) -> None:\n",
    "        self.user_id = id\n",
    "        self.user_nick_name = nick_name\n",
    "        self.expire_date_time = datetime.datetime.strptime(expire_datetime, \"%Y-%m-%d %H:%M:%S\")\n",
    "    \n",
    "    def to_dic(self):\n",
    "        dic = {'user_id':self.user_id,\n",
    "               'user_nick_name':self.user_nick_name,\n",
    "               'expire_date_time':self.expire_date_time}\n",
    "        return dic\n",
    "\n",
    "    def check_expire(self):\n",
    "        if datetime.datetime.now().timestamp() < self.expire_date_time.timestamp():\n",
    "            time_remain = self.expire_date_time- datetime.datetime.now()\n",
    "            strremaintime = f'{time_remain.days}天{time_remain.seconds//3600}小时{(time_remain.seconds%3600 // 60)}分钟{time_remain.seconds%60}秒'\n",
    "            print(f\"会员{self.user_nick_name} 使用时间还剩余{strremaintime}，可充值延长服务时间\")\n",
    "            return False\n",
    "        else:\n",
    "            print(f\"会员{self.user_nick_name} 使用时间已经结束，请充值继续使用服务\")\n",
    "            return True\n",
    "    \n",
    "    def __str__(self) -> str:\n",
    "        return f'id:{self.user_id} | 昵称:{self.user_nick_name} | 到期时间:{self.expire_date_time.strftime(\"%Y-%m-%d %H:%M:%S\")}'\n",
    "        \n",
    "\n",
    "class UserAccountMgr:\n",
    "    def __init__(self) -> None:\n",
    "        self.users = {}\n",
    "\n",
    "\n",
    "    def AddNewUser(self,id,nick_name,expire_datetime):\n",
    "        self.users[nick_name] = UserAccount(id,nick_name,expire_datetime)\n",
    "\n",
    "    def to_dic(self):\n",
    "        dic = {}\n",
    "        dic['users']={}\n",
    "        for u in self.users:\n",
    "            print(f'{u} {self.users[u]}')\n",
    "            dic['users'][u] = self.users[u].to_dic()\n",
    "        print(dic)\n",
    "        return dic\n",
    "\n",
    "    def save(self):\n",
    "        with open('user_accounts.pkl', 'wb') as f:\n",
    "            pickle.dump(self.to_dic(),f)\n",
    "\n",
    "    def load(self):\n",
    "        with open('user_accounts.pkl', 'rb') as f:\n",
    "            data = pickle.load(f)\n",
    "            self.users = {}\n",
    "            for id,u in data['users']:\n",
    "                self.users[id] = UserAccount(u['user_id'],u['user_nick_name'],u['expire_date_time'])\n",
    "\n",
    "    def __str__(self) -> str:\n",
    "        for id,u in self.users:\n",
    "            print(f'{id}: {u}')\n"
   ]
  },
  {
   "cell_type": "code",
   "execution_count": 33,
   "metadata": {},
   "outputs": [],
   "source": [
    "accmgr = UserAccountMgr()\n",
    "accmgr.AddNewUser('@12345',\"Felix\",\"2024-03-05 03:59:00\")\n",
    "accmgr.AddNewUser('@67890',\"FIONA\",\"2024-03-06 13:59:00\")"
   ]
  },
  {
   "cell_type": "code",
   "execution_count": 34,
   "metadata": {},
   "outputs": [
    {
     "name": "stdout",
     "output_type": "stream",
     "text": [
      "Felix id:@12345 | 昵称:Felix | 到期时间:2024-03-05 03:59:00\n",
      "FIONA id:@67890 | 昵称:FIONA | 到期时间:2024-03-06 13:59:00\n",
      "{'users': {'Felix': {'user_id': '@12345', 'user_nick_name': 'Felix', 'expire_date_time': datetime.datetime(2024, 3, 5, 3, 59)}, 'FIONA': {'user_id': '@67890', 'user_nick_name': 'FIONA', 'expire_date_time': datetime.datetime(2024, 3, 6, 13, 59)}}}\n"
     ]
    }
   ],
   "source": [
    "accmgr.save()"
   ]
  },
  {
   "cell_type": "code",
   "execution_count": 129,
   "metadata": {},
   "outputs": [
    {
     "name": "stdout",
     "output_type": "stream",
     "text": [
      "会员Felix 使用时间还剩余1天0小时32分钟39秒，可充值延长服务时间\n"
     ]
    },
    {
     "data": {
      "text/plain": [
       "False"
      ]
     },
     "execution_count": 129,
     "metadata": {},
     "output_type": "execute_result"
    }
   ],
   "source": [
    "accmgr.check_expire()"
   ]
  }
 ],
 "metadata": {
  "kernelspec": {
   "display_name": "wechatgpt",
   "language": "python",
   "name": "python3"
  },
  "language_info": {
   "codemirror_mode": {
    "name": "ipython",
    "version": 3
   },
   "file_extension": ".py",
   "mimetype": "text/x-python",
   "name": "python",
   "nbconvert_exporter": "python",
   "pygments_lexer": "ipython3",
   "version": "3.8.18"
  }
 },
 "nbformat": 4,
 "nbformat_minor": 2
}
